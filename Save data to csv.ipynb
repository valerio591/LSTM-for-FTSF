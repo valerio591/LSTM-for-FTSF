{
 "cells": [
  {
   "cell_type": "markdown",
   "metadata": {},
   "source": [
    "## CREATE DATASETS "
   ]
  },
  {
   "cell_type": "code",
   "execution_count": 2,
   "metadata": {},
   "outputs": [],
   "source": [
    "import pandas as pd\n",
    "import numpy as np\n",
    "import datetime as datetime\n",
    "import matplotlib.pyplot as plt\n",
    "from pandas_datareader import data as pdr\n",
    "import yfinance\n",
    "import pandas_ta as ta\n",
    "from package import euklid as eu\n",
    "# import talib"
   ]
  },
  {
   "cell_type": "code",
   "execution_count": 7,
   "metadata": {},
   "outputs": [
    {
     "data": {
      "text/html": [
       "<div>\n",
       "<style scoped>\n",
       "    .dataframe tbody tr th:only-of-type {\n",
       "        vertical-align: middle;\n",
       "    }\n",
       "\n",
       "    .dataframe tbody tr th {\n",
       "        vertical-align: top;\n",
       "    }\n",
       "\n",
       "    .dataframe thead th {\n",
       "        text-align: right;\n",
       "    }\n",
       "</style>\n",
       "<table border=\"1\" class=\"dataframe\">\n",
       "  <thead>\n",
       "    <tr style=\"text-align: right;\">\n",
       "      <th>Attributes</th>\n",
       "      <th>Adj Close</th>\n",
       "      <th>Close</th>\n",
       "      <th>High</th>\n",
       "      <th>Low</th>\n",
       "      <th>Open</th>\n",
       "      <th>Volume</th>\n",
       "    </tr>\n",
       "    <tr>\n",
       "      <th>Date</th>\n",
       "      <th></th>\n",
       "      <th></th>\n",
       "      <th></th>\n",
       "      <th></th>\n",
       "      <th></th>\n",
       "      <th></th>\n",
       "    </tr>\n",
       "  </thead>\n",
       "  <tbody>\n",
       "    <tr>\n",
       "      <th>2022-02-07</th>\n",
       "      <td>135.606552</td>\n",
       "      <td>137.240005</td>\n",
       "      <td>137.820007</td>\n",
       "      <td>136.270004</td>\n",
       "      <td>137.449997</td>\n",
       "      <td>3759000.0</td>\n",
       "    </tr>\n",
       "    <tr>\n",
       "      <th>2022-02-08</th>\n",
       "      <td>135.389175</td>\n",
       "      <td>137.020004</td>\n",
       "      <td>137.520004</td>\n",
       "      <td>135.779999</td>\n",
       "      <td>137.229996</td>\n",
       "      <td>4181800.0</td>\n",
       "    </tr>\n",
       "    <tr>\n",
       "      <th>2022-02-09</th>\n",
       "      <td>136.149994</td>\n",
       "      <td>137.789993</td>\n",
       "      <td>138.350006</td>\n",
       "      <td>136.830002</td>\n",
       "      <td>137.839996</td>\n",
       "      <td>5393500.0</td>\n",
       "    </tr>\n",
       "    <tr>\n",
       "      <th>2022-02-10</th>\n",
       "      <td>133.520004</td>\n",
       "      <td>133.520004</td>\n",
       "      <td>136.559998</td>\n",
       "      <td>133.169998</td>\n",
       "      <td>135.470001</td>\n",
       "      <td>5978600.0</td>\n",
       "    </tr>\n",
       "    <tr>\n",
       "      <th>2022-02-11</th>\n",
       "      <td>132.690002</td>\n",
       "      <td>132.690002</td>\n",
       "      <td>134.710007</td>\n",
       "      <td>132.380005</td>\n",
       "      <td>133.899994</td>\n",
       "      <td>4176200.0</td>\n",
       "    </tr>\n",
       "  </tbody>\n",
       "</table>\n",
       "</div>"
      ],
      "text/plain": [
       "Attributes   Adj Close       Close        High         Low        Open  \\\n",
       "Date                                                                     \n",
       "2022-02-07  135.606552  137.240005  137.820007  136.270004  137.449997   \n",
       "2022-02-08  135.389175  137.020004  137.520004  135.779999  137.229996   \n",
       "2022-02-09  136.149994  137.789993  138.350006  136.830002  137.839996   \n",
       "2022-02-10  133.520004  133.520004  136.559998  133.169998  135.470001   \n",
       "2022-02-11  132.690002  132.690002  134.710007  132.380005  133.899994   \n",
       "\n",
       "Attributes     Volume  \n",
       "Date                   \n",
       "2022-02-07  3759000.0  \n",
       "2022-02-08  4181800.0  \n",
       "2022-02-09  5393500.0  \n",
       "2022-02-10  5978600.0  \n",
       "2022-02-11  4176200.0  "
      ]
     },
     "execution_count": 7,
     "metadata": {},
     "output_type": "execute_result"
    }
   ],
   "source": [
    "stocks = [\"IBM\"]\n",
    "start = datetime.datetime(2000,8,23)\n",
    "end = datetime.datetime(2022,2,11)\n",
    "\n",
    "yahoo_df = pdr.DataReader(stocks, 'yahoo',start,end)\n",
    "yahoo_df = yahoo_df.droplevel(level = 1, axis = 1)\n",
    "yahoo_df.tail()"
   ]
  },
  {
   "cell_type": "code",
   "execution_count": 80,
   "metadata": {},
   "outputs": [],
   "source": [
    "#yahoo_df['Close'] = (yahoo_df['Close'].shift(1)-yahoo_df['Close'])\n",
    "#yahoo_df['Adj Close'] = (yahoo_df['Adj Close'].shift(1)-yahoo_df['Adj Close'])\n",
    "#yahoo_df['High'] = (yahoo_df['High'].shift(1)-yahoo_df['High'])\n",
    "#yahoo_df['Low'] = (yahoo_df['Low'].shift(1)-yahoo_df['Low'])\n",
    "#yahoo_df['Open'] = (yahoo_df['Open'].shift(1)-yahoo_df['Open'])\n",
    "#yahoo_df['Volume'] = (yahoo_df['Volume'].shift(1)-yahoo_df['Volume'])\n",
    "\n",
    "close = yahoo_df[\"Close\"]\n",
    "\n",
    "# Add indicators\n",
    "yahoo_df['vwap'] = eu.vwap(yahoo_df['Close'], yahoo_df['Volume'])\n",
    "yahoo_df['SO'] = eu.Stochastic_Oscillator(yahoo_df['Close'])\n",
    "yahoo_df['RSI'] = eu.rsi(yahoo_df['Close'],14)\n",
    "yahoo_df['KAMA'] = talib.KAMA(yahoo_df['Close'], timeperiod=30)\n",
    "yahoo_df['T3'] = talib.T3(yahoo_df['Close'], timeperiod=5, vfactor=0)\n",
    "yahoo_df['OBV']  = talib.OBV(yahoo_df['Close'], yahoo_df['Volume'])\n",
    "yahoo_df['ATR'] = talib.ATR(yahoo_df['High'], yahoo_df['Low'], yahoo_df['Close'], timeperiod=14)\n",
    "#yahoo_df['CDL2CROWS'] = talib.CDL2CROWS(yahoo_df['Open'], yahoo_df['High'], yahoo_df['Low'], yahoo_df['Close'])\n",
    "#yahoo_df['CDLADVANCEBLOCK'] = talib.CDLADVANCEBLOCK(yahoo_df['Open'], yahoo_df['High'], yahoo_df['Low'], yahoo_df['Close'])\n",
    "#yahoo_df['CDLDARKCLOUDCOVER'] = talib.CDLDARKCLOUDCOVER(yahoo_df['Open'], yahoo_df['High'], yahoo_df['Low'], yahoo_df['Close'], penetration=0)\n",
    "#yahoo_df['CDLHARAMI'] = talib.CDLHARAMI(yahoo_df['Open'], yahoo_df['High'], yahoo_df['Low'], yahoo_df['Close'])\n",
    "\n",
    "# Select valid data\n",
    "eu.macd(yahoo_df,yahoo_df['Close'])\n",
    "#----\n",
    "yahoo_df = yahoo_df[35:]\n"
   ]
  },
  {
   "cell_type": "code",
   "execution_count": 82,
   "metadata": {},
   "outputs": [],
   "source": [
    "yahoo_df.to_csv(\"ibm.csv\")"
   ]
  },
  {
   "cell_type": "code",
   "execution_count": 5,
   "metadata": {},
   "outputs": [],
   "source": [
    "# Save gold futures data\n",
    "stocks = [\"CL=F\"]\n",
    "start = datetime.datetime(2000,8,23)\n",
    "end = datetime.datetime(2022,2,11)\n",
    "\n",
    "yahoo_df = pdr.DataReader(stocks, 'yahoo',start,end)\n",
    "yahoo_df = yahoo_df.droplevel(level = 1, axis = 1)\n",
    "yahoo_df['SO'] = eu.Stochastic_Oscillator(yahoo_df['Close'])\n",
    "yahoo_df['RSI'] = eu.rsi(yahoo_df['Close'],14)\n",
    "yahoo_df.to_csv('oil.csv')"
   ]
  },
  {
   "cell_type": "code",
   "execution_count": 6,
   "metadata": {},
   "outputs": [],
   "source": [
    "# Save WTI futures data\n",
    "stocks = [\"GC=F\"]\n",
    "start = datetime.datetime(2000,8,23)\n",
    "end = datetime.datetime(2022,2,11)\n",
    "\n",
    "yahoo_df = pdr.DataReader(stocks, 'yahoo',start,end)\n",
    "yahoo_df = yahoo_df.droplevel(level = 1, axis = 1)\n",
    "yahoo_df['SO'] = eu.Stochastic_Oscillator(yahoo_df['Close'])\n",
    "yahoo_df['RSI'] = eu.rsi(yahoo_df['Close'],14)\n",
    "yahoo_df.to_csv('gold.csv')"
   ]
  }
 ],
 "metadata": {
  "kernelspec": {
   "display_name": "Python 3",
   "language": "python",
   "name": "python3"
  },
  "language_info": {
   "codemirror_mode": {
    "name": "ipython",
    "version": 3
   },
   "file_extension": ".py",
   "mimetype": "text/x-python",
   "name": "python",
   "nbconvert_exporter": "python",
   "pygments_lexer": "ipython3",
   "version": "3.8.5"
  }
 },
 "nbformat": 4,
 "nbformat_minor": 4
}

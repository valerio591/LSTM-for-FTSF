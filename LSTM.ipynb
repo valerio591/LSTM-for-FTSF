{
 "cells": [
  {
   "cell_type": "code",
   "execution_count": 1,
   "metadata": {},
   "outputs": [],
   "source": [
    "import pandas as pd\n",
    "import numpy as np\n",
    "import datetime as datetime\n",
    "import matplotlib.pyplot as plt\n",
    "from pandas import DataFrame\n",
    "from pandas import concat\n",
    "from sklearn.preprocessing import LabelEncoder\n",
    "from sklearn.preprocessing import MinMaxScaler\n",
    "from package import euklid as eu\n"
   ]
  },
  {
   "cell_type": "code",
   "execution_count": 2,
   "metadata": {},
   "outputs": [],
   "source": [
    "path =\"../gold.csv\""
   ]
  },
  {
   "cell_type": "code",
   "execution_count": 3,
   "metadata": {},
   "outputs": [],
   "source": [
    "yahoo_df = pd.read_csv('gold.csv')"
   ]
  },
  {
   "cell_type": "code",
   "execution_count": 4,
   "metadata": {},
   "outputs": [
    {
     "name": "stderr",
     "output_type": "stream",
     "text": [
      "C:\\Users\\valer\\OneDrive\\Desktop\\GitHub Projects\\euklid_project\\package\\euklid.py:18: RuntimeWarning: invalid value encountered in double_scalars\n",
      "  ind = np.sum(pvol)/np.sum(volume[low_range:(i+1)])\n"
     ]
    }
   ],
   "source": [
    "# Add indicators\n",
    "yahoo_df['vwap'] = eu.vwap(yahoo_df['Close'], yahoo_df['Volume'])\n",
    "yahoo_df['SO'] = eu.Stochastic_Oscillator(yahoo_df['Close'])\n",
    "yahoo_df['RSI'] = eu.rsi(yahoo_df['Close'],14)\n",
    "eu.macd(yahoo_df,yahoo_df['Close'])\n",
    "\n",
    "# Select valid data\n",
    "yahoo_df = yahoo_df[35:]"
   ]
  },
  {
   "cell_type": "markdown",
   "metadata": {},
   "source": [
    "# Normalize"
   ]
  },
  {
   "cell_type": "code",
   "execution_count": 5,
   "metadata": {},
   "outputs": [
    {
     "name": "stderr",
     "output_type": "stream",
     "text": [
      "<ipython-input-5-9af33910b41d>:4: SettingWithCopyWarning: \n",
      "A value is trying to be set on a copy of a slice from a DataFrame.\n",
      "Try using .loc[row_indexer,col_indexer] = value instead\n",
      "\n",
      "See the caveats in the documentation: https://pandas.pydata.org/pandas-docs/stable/user_guide/indexing.html#returning-a-view-versus-a-copy\n",
      "  yahoo_df[\"Previous_differenced\"] = previous_differenced\n",
      "<ipython-input-5-9af33910b41d>:5: SettingWithCopyWarning: \n",
      "A value is trying to be set on a copy of a slice from a DataFrame.\n",
      "Try using .loc[row_indexer,col_indexer] = value instead\n",
      "\n",
      "See the caveats in the documentation: https://pandas.pydata.org/pandas-docs/stable/user_guide/indexing.html#returning-a-view-versus-a-copy\n",
      "  yahoo_df[\"Differenced\"] = differenced\n"
     ]
    },
    {
     "data": {
      "text/html": [
       "<div>\n",
       "<style scoped>\n",
       "    .dataframe tbody tr th:only-of-type {\n",
       "        vertical-align: middle;\n",
       "    }\n",
       "\n",
       "    .dataframe tbody tr th {\n",
       "        vertical-align: top;\n",
       "    }\n",
       "\n",
       "    .dataframe thead th {\n",
       "        text-align: right;\n",
       "    }\n",
       "</style>\n",
       "<table border=\"1\" class=\"dataframe\">\n",
       "  <thead>\n",
       "    <tr style=\"text-align: right;\">\n",
       "      <th></th>\n",
       "      <th>Date</th>\n",
       "      <th>Adj Close</th>\n",
       "      <th>Close</th>\n",
       "      <th>High</th>\n",
       "      <th>Low</th>\n",
       "      <th>Open</th>\n",
       "      <th>Volume</th>\n",
       "      <th>SO</th>\n",
       "      <th>RSI</th>\n",
       "      <th>vwap</th>\n",
       "      <th>MACD_12_26_9</th>\n",
       "      <th>MACDh_12_26_9</th>\n",
       "      <th>MACDs_12_26_9</th>\n",
       "      <th>Previous_differenced</th>\n",
       "      <th>Differenced</th>\n",
       "    </tr>\n",
       "  </thead>\n",
       "  <tbody>\n",
       "    <tr>\n",
       "      <th>39</th>\n",
       "      <td>2000-10-25</td>\n",
       "      <td>266.200012</td>\n",
       "      <td>266.200012</td>\n",
       "      <td>267.100006</td>\n",
       "      <td>266.000000</td>\n",
       "      <td>266.200012</td>\n",
       "      <td>20.0</td>\n",
       "      <td>0.000000</td>\n",
       "      <td>47.708551</td>\n",
       "      <td>270.278518</td>\n",
       "      <td>-1.128457</td>\n",
       "      <td>-0.320039</td>\n",
       "      <td>-0.808418</td>\n",
       "      <td>0.000000</td>\n",
       "      <td>-5.000000</td>\n",
       "    </tr>\n",
       "    <tr>\n",
       "      <th>40</th>\n",
       "      <td>2000-10-26</td>\n",
       "      <td>264.899994</td>\n",
       "      <td>264.899994</td>\n",
       "      <td>267.000000</td>\n",
       "      <td>264.899994</td>\n",
       "      <td>266.000000</td>\n",
       "      <td>0.0</td>\n",
       "      <td>0.000000</td>\n",
       "      <td>45.332279</td>\n",
       "      <td>270.261745</td>\n",
       "      <td>-1.478985</td>\n",
       "      <td>-0.536454</td>\n",
       "      <td>-0.942532</td>\n",
       "      <td>-5.000000</td>\n",
       "      <td>-5.200012</td>\n",
       "    </tr>\n",
       "    <tr>\n",
       "      <th>41</th>\n",
       "      <td>2000-10-27</td>\n",
       "      <td>264.399994</td>\n",
       "      <td>264.399994</td>\n",
       "      <td>265.500000</td>\n",
       "      <td>264.399994</td>\n",
       "      <td>265.500000</td>\n",
       "      <td>1.0</td>\n",
       "      <td>0.000000</td>\n",
       "      <td>44.420546</td>\n",
       "      <td>270.227199</td>\n",
       "      <td>-1.776647</td>\n",
       "      <td>-0.667292</td>\n",
       "      <td>-1.109355</td>\n",
       "      <td>-5.200012</td>\n",
       "      <td>-5.700012</td>\n",
       "    </tr>\n",
       "    <tr>\n",
       "      <th>42</th>\n",
       "      <td>2000-10-30</td>\n",
       "      <td>264.299988</td>\n",
       "      <td>264.299988</td>\n",
       "      <td>264.299988</td>\n",
       "      <td>264.299988</td>\n",
       "      <td>264.299988</td>\n",
       "      <td>2.0</td>\n",
       "      <td>0.000000</td>\n",
       "      <td>44.229914</td>\n",
       "      <td>270.125898</td>\n",
       "      <td>-1.997588</td>\n",
       "      <td>-0.710587</td>\n",
       "      <td>-1.287001</td>\n",
       "      <td>-5.700012</td>\n",
       "      <td>-1.900024</td>\n",
       "    </tr>\n",
       "    <tr>\n",
       "      <th>43</th>\n",
       "      <td>2000-10-31</td>\n",
       "      <td>264.899994</td>\n",
       "      <td>264.899994</td>\n",
       "      <td>265.000000</td>\n",
       "      <td>264.500000</td>\n",
       "      <td>264.500000</td>\n",
       "      <td>0.0</td>\n",
       "      <td>4.958726</td>\n",
       "      <td>45.727139</td>\n",
       "      <td>269.827280</td>\n",
       "      <td>-2.100063</td>\n",
       "      <td>-0.650449</td>\n",
       "      <td>-1.449614</td>\n",
       "      <td>-1.900024</td>\n",
       "      <td>0.000000</td>\n",
       "    </tr>\n",
       "  </tbody>\n",
       "</table>\n",
       "</div>"
      ],
      "text/plain": [
       "          Date   Adj Close       Close        High         Low        Open  \\\n",
       "39  2000-10-25  266.200012  266.200012  267.100006  266.000000  266.200012   \n",
       "40  2000-10-26  264.899994  264.899994  267.000000  264.899994  266.000000   \n",
       "41  2000-10-27  264.399994  264.399994  265.500000  264.399994  265.500000   \n",
       "42  2000-10-30  264.299988  264.299988  264.299988  264.299988  264.299988   \n",
       "43  2000-10-31  264.899994  264.899994  265.000000  264.500000  264.500000   \n",
       "\n",
       "    Volume        SO        RSI        vwap  MACD_12_26_9  MACDh_12_26_9  \\\n",
       "39    20.0  0.000000  47.708551  270.278518     -1.128457      -0.320039   \n",
       "40     0.0  0.000000  45.332279  270.261745     -1.478985      -0.536454   \n",
       "41     1.0  0.000000  44.420546  270.227199     -1.776647      -0.667292   \n",
       "42     2.0  0.000000  44.229914  270.125898     -1.997588      -0.710587   \n",
       "43     0.0  4.958726  45.727139  269.827280     -2.100063      -0.650449   \n",
       "\n",
       "    MACDs_12_26_9  Previous_differenced  Differenced  \n",
       "39      -0.808418              0.000000    -5.000000  \n",
       "40      -0.942532             -5.000000    -5.200012  \n",
       "41      -1.109355             -5.200012    -5.700012  \n",
       "42      -1.287001             -5.700012    -1.900024  \n",
       "43      -1.449614             -1.900024     0.000000  "
      ]
     },
     "execution_count": 5,
     "metadata": {},
     "output_type": "execute_result"
    }
   ],
   "source": [
    "days_ahead = 1\n",
    "differenced = yahoo_df['Close'] - yahoo_df['Close'].shift(days_ahead)[days_ahead:]\n",
    "previous_differenced = differenced.shift(1)\n",
    "yahoo_df[\"Previous_differenced\"] = previous_differenced\n",
    "yahoo_df[\"Differenced\"] = differenced\n",
    "yahoo_df = yahoo_df[days_ahead+1:]\n",
    "yahoo_df.head()"
   ]
  },
  {
   "cell_type": "code",
   "execution_count": 6,
   "metadata": {},
   "outputs": [],
   "source": [
    "# Try to make predictions on up or down\n",
    "# def up_down(price):\n",
    "#     up_down = [np.nan]\n",
    "#     for i in range(1,len(price)):\n",
    "#         if price[i] > price[i-1]:\n",
    "#             up_down.append(1)\n",
    "#         else:\n",
    "#             up_down.append(0)\n",
    "#     return up_down\n",
    "# yahoo_df['up_down'] = up_down(list(yahoo_df['Close']))\n",
    "# yahoo_df"
   ]
  },
  {
   "cell_type": "code",
   "execution_count": 7,
   "metadata": {},
   "outputs": [],
   "source": [
    "# price = yahoo_df['Differenced'] \n",
    "# price.plot()"
   ]
  },
  {
   "cell_type": "code",
   "execution_count": 8,
   "metadata": {},
   "outputs": [
    {
     "data": {
      "text/html": [
       "<div>\n",
       "<style scoped>\n",
       "    .dataframe tbody tr th:only-of-type {\n",
       "        vertical-align: middle;\n",
       "    }\n",
       "\n",
       "    .dataframe tbody tr th {\n",
       "        vertical-align: top;\n",
       "    }\n",
       "\n",
       "    .dataframe thead th {\n",
       "        text-align: right;\n",
       "    }\n",
       "</style>\n",
       "<table border=\"1\" class=\"dataframe\">\n",
       "  <thead>\n",
       "    <tr style=\"text-align: right;\">\n",
       "      <th></th>\n",
       "      <th>SO</th>\n",
       "      <th>RSI</th>\n",
       "      <th>MACD_12_26_9</th>\n",
       "      <th>MACDh_12_26_9</th>\n",
       "      <th>MACDs_12_26_9</th>\n",
       "      <th>Previous_differenced</th>\n",
       "      <th>Differenced</th>\n",
       "    </tr>\n",
       "  </thead>\n",
       "  <tbody>\n",
       "    <tr>\n",
       "      <th>42</th>\n",
       "      <td>0.000000</td>\n",
       "      <td>44.229914</td>\n",
       "      <td>-1.997588</td>\n",
       "      <td>-0.710587</td>\n",
       "      <td>-1.287001</td>\n",
       "      <td>-5.700012</td>\n",
       "      <td>-1.900024</td>\n",
       "    </tr>\n",
       "    <tr>\n",
       "      <th>43</th>\n",
       "      <td>4.958726</td>\n",
       "      <td>45.727139</td>\n",
       "      <td>-2.100063</td>\n",
       "      <td>-0.650449</td>\n",
       "      <td>-1.449614</td>\n",
       "      <td>-1.900024</td>\n",
       "      <td>0.000000</td>\n",
       "    </tr>\n",
       "    <tr>\n",
       "      <th>44</th>\n",
       "      <td>0.000000</td>\n",
       "      <td>43.635287</td>\n",
       "      <td>-2.236188</td>\n",
       "      <td>-0.629260</td>\n",
       "      <td>-1.606929</td>\n",
       "      <td>0.000000</td>\n",
       "      <td>-0.500000</td>\n",
       "    </tr>\n",
       "    <tr>\n",
       "      <th>45</th>\n",
       "      <td>5.882353</td>\n",
       "      <td>44.983574</td>\n",
       "      <td>-2.277470</td>\n",
       "      <td>-0.536433</td>\n",
       "      <td>-1.741037</td>\n",
       "      <td>-0.500000</td>\n",
       "      <td>0.100006</td>\n",
       "    </tr>\n",
       "    <tr>\n",
       "      <th>46</th>\n",
       "      <td>9.210680</td>\n",
       "      <td>45.541900</td>\n",
       "      <td>-2.267904</td>\n",
       "      <td>-0.421493</td>\n",
       "      <td>-1.846410</td>\n",
       "      <td>0.100006</td>\n",
       "      <td>-0.299988</td>\n",
       "    </tr>\n",
       "  </tbody>\n",
       "</table>\n",
       "</div>"
      ],
      "text/plain": [
       "          SO        RSI  MACD_12_26_9  MACDh_12_26_9  MACDs_12_26_9  \\\n",
       "42  0.000000  44.229914     -1.997588      -0.710587      -1.287001   \n",
       "43  4.958726  45.727139     -2.100063      -0.650449      -1.449614   \n",
       "44  0.000000  43.635287     -2.236188      -0.629260      -1.606929   \n",
       "45  5.882353  44.983574     -2.277470      -0.536433      -1.741037   \n",
       "46  9.210680  45.541900     -2.267904      -0.421493      -1.846410   \n",
       "\n",
       "    Previous_differenced  Differenced  \n",
       "42             -5.700012    -1.900024  \n",
       "43             -1.900024     0.000000  \n",
       "44              0.000000    -0.500000  \n",
       "45             -0.500000     0.100006  \n",
       "46              0.100006    -0.299988  "
      ]
     },
     "execution_count": 8,
     "metadata": {},
     "output_type": "execute_result"
    }
   ],
   "source": [
    "yahoo_df = yahoo_df.iloc[days_ahead:,:]\n",
    "yahoo_df = yahoo_df.drop(columns = ['Volume', 'vwap'])\n",
    "close = yahoo_df['Close']\n",
    "yahoo_df = yahoo_df.iloc[:,6:]\n",
    "yahoo_df.head()"
   ]
  },
  {
   "cell_type": "code",
   "execution_count": 9,
   "metadata": {},
   "outputs": [],
   "source": [
    "yahoo_df = yahoo_df.iloc[:,6:]"
   ]
  },
  {
   "cell_type": "code",
   "execution_count": 10,
   "metadata": {},
   "outputs": [
    {
     "data": {
      "text/plain": [
       "array([[-1.9000244],\n",
       "       [ 0.       ],\n",
       "       [-0.5      ],\n",
       "       ...,\n",
       "       [28.599976 ],\n",
       "       [15.599976 ],\n",
       "       [14.200073 ]], dtype=float32)"
      ]
     },
     "execution_count": 10,
     "metadata": {},
     "output_type": "execute_result"
    }
   ],
   "source": [
    "# convert series to supervised learning\n",
    "values = yahoo_df.values\n",
    "# ensure all data is float\n",
    "values = values.astype('float32')\n",
    "# normalize features\n",
    "values"
   ]
  },
  {
   "cell_type": "markdown",
   "metadata": {},
   "source": [
    "# Train, test, val"
   ]
  },
  {
   "cell_type": "code",
   "execution_count": 11,
   "metadata": {},
   "outputs": [],
   "source": [
    "# split into train and test sets\n",
    "n_train_days = int(round(yahoo_df.shape[0]*0.8))"
   ]
  },
  {
   "cell_type": "code",
   "execution_count": 12,
   "metadata": {},
   "outputs": [],
   "source": [
    "train = values[:n_train_days, :]\n",
    "test = values[n_train_days:, :]\n",
    "close_train = list(close)[:n_train_days]\n",
    "close_test = list(close)[n_train_days:]"
   ]
  },
  {
   "cell_type": "code",
   "execution_count": 13,
   "metadata": {},
   "outputs": [],
   "source": [
    "# split into input and outputs\n",
    "train_X, train_y = train[:, :-1], train[:, -1]\n",
    "test_X, test_y = test[:, :-1], test[:, -1]\n"
   ]
  },
  {
   "cell_type": "code",
   "execution_count": 14,
   "metadata": {},
   "outputs": [
    {
     "name": "stdout",
     "output_type": "stream",
     "text": [
      "(4273, 1, 0) (4273,) (1068, 1, 0) (1068,)\n"
     ]
    }
   ],
   "source": [
    "# reshape input to be 3D [samples, timesteps, features]\n",
    "train_X = train_X.reshape((train_X.shape[0], 1, train_X.shape[1]))\n",
    "test_X = test_X.reshape((test_X.shape[0], 1, test_X.shape[1]))\n",
    "print(train_X.shape, train_y.shape, test_X.shape, test_y.shape)"
   ]
  },
  {
   "cell_type": "markdown",
   "metadata": {},
   "source": [
    "# LSTM"
   ]
  },
  {
   "cell_type": "code",
   "execution_count": 15,
   "metadata": {},
   "outputs": [],
   "source": [
    "from keras.models import Sequential\n",
    "from keras.layers import Dense\n",
    "from tensorflow.keras.layers import LSTM\n",
    "from keras.callbacks import EarlyStopping\n",
    "from keras import optimizers\n",
    "import tensorflow as tf"
   ]
  },
  {
   "cell_type": "code",
   "execution_count": 16,
   "metadata": {},
   "outputs": [],
   "source": [
    "# Set early stopping monitor so the model stops training when it won't improve anymore\n",
    "esm = EarlyStopping(monitor = 'loss', patience = 7)\n",
    "\n",
    "# Set the optimizer\n",
    "adam = tf.optimizers.Adam(learning_rate = 0.0001)"
   ]
  },
  {
   "cell_type": "code",
   "execution_count": 17,
   "metadata": {
    "scrolled": true
   },
   "outputs": [
    {
     "name": "stdout",
     "output_type": "stream",
     "text": [
      "Epoch 1/150\n",
      "428/428 - 2s - loss: 13.6523 - 2s/epoch - 4ms/step\n",
      "Epoch 2/150\n",
      "428/428 - 0s - loss: 13.6498 - 448ms/epoch - 1ms/step\n",
      "Epoch 3/150\n",
      "428/428 - 0s - loss: 13.6470 - 474ms/epoch - 1ms/step\n",
      "Epoch 4/150\n",
      "428/428 - 0s - loss: 13.6440 - 476ms/epoch - 1ms/step\n",
      "Epoch 5/150\n",
      "428/428 - 0s - loss: 13.6413 - 471ms/epoch - 1ms/step\n",
      "Epoch 6/150\n",
      "428/428 - 0s - loss: 13.6384 - 437ms/epoch - 1ms/step\n",
      "Epoch 7/150\n",
      "428/428 - 0s - loss: 13.6357 - 434ms/epoch - 1ms/step\n",
      "Epoch 8/150\n",
      "428/428 - 0s - loss: 13.6332 - 443ms/epoch - 1ms/step\n",
      "Epoch 9/150\n",
      "428/428 - 0s - loss: 13.6307 - 428ms/epoch - 1ms/step\n",
      "Epoch 10/150\n",
      "428/428 - 0s - loss: 13.6286 - 467ms/epoch - 1ms/step\n",
      "Epoch 11/150\n",
      "428/428 - 0s - loss: 13.6267 - 443ms/epoch - 1ms/step\n",
      "Epoch 12/150\n",
      "428/428 - 0s - loss: 13.6247 - 431ms/epoch - 1ms/step\n",
      "Epoch 13/150\n",
      "428/428 - 0s - loss: 13.6232 - 428ms/epoch - 1000us/step\n",
      "Epoch 14/150\n",
      "428/428 - 0s - loss: 13.6218 - 473ms/epoch - 1ms/step\n",
      "Epoch 15/150\n",
      "428/428 - 0s - loss: 13.6204 - 428ms/epoch - 1ms/step\n",
      "Epoch 16/150\n",
      "428/428 - 0s - loss: 13.6191 - 455ms/epoch - 1ms/step\n",
      "Epoch 17/150\n",
      "428/428 - 0s - loss: 13.6180 - 431ms/epoch - 1ms/step\n",
      "Epoch 18/150\n",
      "428/428 - 0s - loss: 13.6168 - 436ms/epoch - 1ms/step\n",
      "Epoch 19/150\n",
      "428/428 - 0s - loss: 13.6157 - 429ms/epoch - 1ms/step\n",
      "Epoch 20/150\n",
      "428/428 - 0s - loss: 13.6148 - 432ms/epoch - 1ms/step\n",
      "Epoch 21/150\n",
      "428/428 - 0s - loss: 13.6141 - 465ms/epoch - 1ms/step\n",
      "Epoch 22/150\n",
      "428/428 - 0s - loss: 13.6133 - 419ms/epoch - 980us/step\n",
      "Epoch 23/150\n",
      "428/428 - 0s - loss: 13.6126 - 467ms/epoch - 1ms/step\n",
      "Epoch 24/150\n",
      "428/428 - 0s - loss: 13.6119 - 448ms/epoch - 1ms/step\n",
      "Epoch 25/150\n",
      "428/428 - 0s - loss: 13.6115 - 422ms/epoch - 985us/step\n",
      "Epoch 26/150\n",
      "428/428 - 0s - loss: 13.6111 - 426ms/epoch - 996us/step\n",
      "Epoch 27/150\n",
      "428/428 - 0s - loss: 13.6106 - 410ms/epoch - 958us/step\n",
      "Epoch 28/150\n",
      "428/428 - 0s - loss: 13.6102 - 433ms/epoch - 1ms/step\n",
      "Epoch 29/150\n",
      "428/428 - 0s - loss: 13.6098 - 419ms/epoch - 979us/step\n",
      "Epoch 30/150\n",
      "428/428 - 0s - loss: 13.6095 - 424ms/epoch - 990us/step\n",
      "Epoch 31/150\n",
      "428/428 - 0s - loss: 13.6093 - 423ms/epoch - 989us/step\n",
      "Epoch 32/150\n",
      "428/428 - 0s - loss: 13.6092 - 428ms/epoch - 1ms/step\n",
      "Epoch 33/150\n",
      "428/428 - 0s - loss: 13.6090 - 434ms/epoch - 1ms/step\n",
      "Epoch 34/150\n",
      "428/428 - 0s - loss: 13.6088 - 421ms/epoch - 983us/step\n",
      "Epoch 35/150\n",
      "428/428 - 0s - loss: 13.6087 - 427ms/epoch - 997us/step\n",
      "Epoch 36/150\n",
      "428/428 - 0s - loss: 13.6085 - 433ms/epoch - 1ms/step\n",
      "Epoch 37/150\n",
      "428/428 - 0s - loss: 13.6084 - 411ms/epoch - 961us/step\n",
      "Epoch 38/150\n",
      "428/428 - 0s - loss: 13.6082 - 432ms/epoch - 1ms/step\n",
      "Epoch 39/150\n",
      "428/428 - 0s - loss: 13.6081 - 418ms/epoch - 977us/step\n",
      "Epoch 40/150\n",
      "428/428 - 0s - loss: 13.6080 - 429ms/epoch - 1ms/step\n",
      "Epoch 41/150\n",
      "428/428 - 0s - loss: 13.6079 - 419ms/epoch - 979us/step\n",
      "Epoch 42/150\n",
      "428/428 - 0s - loss: 13.6079 - 410ms/epoch - 958us/step\n",
      "Epoch 43/150\n",
      "428/428 - 0s - loss: 13.6078 - 422ms/epoch - 986us/step\n",
      "Epoch 44/150\n",
      "428/428 - 0s - loss: 13.6077 - 412ms/epoch - 963us/step\n",
      "Epoch 45/150\n",
      "428/428 - 0s - loss: 13.6077 - 434ms/epoch - 1ms/step\n",
      "Epoch 46/150\n",
      "428/428 - 0s - loss: 13.6076 - 415ms/epoch - 969us/step\n",
      "Epoch 47/150\n",
      "428/428 - 0s - loss: 13.6075 - 426ms/epoch - 994us/step\n",
      "Epoch 48/150\n",
      "428/428 - 0s - loss: 13.6075 - 443ms/epoch - 1ms/step\n",
      "Epoch 49/150\n",
      "428/428 - 0s - loss: 13.6074 - 444ms/epoch - 1ms/step\n",
      "Epoch 50/150\n",
      "428/428 - 0s - loss: 13.6073 - 469ms/epoch - 1ms/step\n",
      "Epoch 51/150\n",
      "428/428 - 0s - loss: 13.6073 - 432ms/epoch - 1ms/step\n",
      "Epoch 52/150\n",
      "428/428 - 0s - loss: 13.6072 - 478ms/epoch - 1ms/step\n",
      "Epoch 53/150\n",
      "428/428 - 0s - loss: 13.6072 - 466ms/epoch - 1ms/step\n",
      "Epoch 54/150\n",
      "428/428 - 0s - loss: 13.6072 - 477ms/epoch - 1ms/step\n",
      "Epoch 55/150\n",
      "428/428 - 0s - loss: 13.6071 - 435ms/epoch - 1ms/step\n",
      "Epoch 56/150\n",
      "428/428 - 0s - loss: 13.6071 - 430ms/epoch - 1ms/step\n",
      "Epoch 57/150\n",
      "428/428 - 0s - loss: 13.6072 - 442ms/epoch - 1ms/step\n",
      "Epoch 58/150\n",
      "428/428 - 0s - loss: 13.6072 - 471ms/epoch - 1ms/step\n",
      "Epoch 59/150\n",
      "428/428 - 0s - loss: 13.6072 - 483ms/epoch - 1ms/step\n",
      "Epoch 60/150\n",
      "428/428 - 0s - loss: 13.6072 - 462ms/epoch - 1ms/step\n",
      "Epoch 61/150\n",
      "428/428 - 0s - loss: 13.6072 - 457ms/epoch - 1ms/step\n",
      "Epoch 62/150\n",
      "428/428 - 0s - loss: 13.6072 - 430ms/epoch - 1ms/step\n",
      "Epoch 63/150\n",
      "428/428 - 0s - loss: 13.6072 - 422ms/epoch - 985us/step\n"
     ]
    },
    {
     "data": {
      "image/png": "[encoded data removed]",
      "text/plain": [
       "<Figure size 432x288 with 1 Axes>"
      ]
     },
     "metadata": {
      "needs_background": "light"
     },
     "output_type": "display_data"
    }
   ],
   "source": [
    "# design network\n",
    "model = Sequential()\n",
    "model.add(LSTM(50, input_shape=(train_X.shape[1], train_X.shape[2])))\n",
    "model.add(Dense(1))\n",
    "model.compile(loss='mae', optimizer=adam)\n",
    "# fit network\n",
    "history = model.fit(train_X, train_y, epochs=150, batch_size=10, verbose=2, shuffle=False,  callbacks = [esm])\n",
    "# plot history\n",
    "plt.plot(history.history['loss'], label='train')\n",
    "#plt.plot(history.history['val_loss'], label='test')\n",
    "plt.legend()\n",
    "plt.show()"
   ]
  },
  {
   "cell_type": "markdown",
   "metadata": {},
   "source": [
    "# Prediction "
   ]
  },
  {
   "cell_type": "code",
   "execution_count": 18,
   "metadata": {},
   "outputs": [
    {
     "data": {
      "text/plain": [
       "[1.024428129196167,\n",
       " 1.024428129196167,\n",
       " 1.024428129196167,\n",
       " 1.024428129196167,\n",
       " 1.024428129196167]"
      ]
     },
     "execution_count": 18,
     "metadata": {},
     "output_type": "execute_result"
    }
   ],
   "source": [
    "predict = model.predict(test_X)\n",
    "predict = [float(predict[i]) for i in range(len(predict))]\n",
    "predict[:5]"
   ]
  },
  {
   "cell_type": "code",
   "execution_count": 19,
   "metadata": {},
   "outputs": [],
   "source": [
    "def ud_pred(predict):\n",
    "    up_down = []\n",
    "    for i in range(len(predict)):\n",
    "        if predict[i] > 0:\n",
    "            up_down.append(1)\n",
    "        else:\n",
    "            up_down.append(0)\n",
    "    return up_down\n",
    "\n",
    "def ud(predict):\n",
    "    up_down = [1]\n",
    "    for i in range(1,len(predict)):\n",
    "        if predict[i] > predict[i-1]:\n",
    "            up_down.append(1)\n",
    "        else:\n",
    "            up_down.append(0)\n",
    "    return up_down"
   ]
  },
  {
   "cell_type": "code",
   "execution_count": 20,
   "metadata": {},
   "outputs": [],
   "source": [
    "# Scale back predictions\n",
    "def scale_back(pred, close):\n",
    "    for i in range(1,len(pred)):\n",
    "        pred[i-1] = pred[i]+list(close)[i-1]\n",
    "    return pred"
   ]
  },
  {
   "cell_type": "code",
   "execution_count": 21,
   "metadata": {},
   "outputs": [],
   "source": [
    "pred = scale_back(predict, close_test)\n",
    "updown_pred = ud_pred(predict)"
   ]
  },
  {
   "cell_type": "code",
   "execution_count": 22,
   "metadata": {},
   "outputs": [
    {
     "data": {
      "text/html": [
       "<div>\n",
       "<style scoped>\n",
       "    .dataframe tbody tr th:only-of-type {\n",
       "        vertical-align: middle;\n",
       "    }\n",
       "\n",
       "    .dataframe tbody tr th {\n",
       "        vertical-align: top;\n",
       "    }\n",
       "\n",
       "    .dataframe thead th {\n",
       "        text-align: right;\n",
       "    }\n",
       "</style>\n",
       "<table border=\"1\" class=\"dataframe\">\n",
       "  <thead>\n",
       "    <tr style=\"text-align: right;\">\n",
       "      <th></th>\n",
       "      <th>Close</th>\n",
       "      <th>Scaled_pred</th>\n",
       "      <th>Pred</th>\n",
       "    </tr>\n",
       "  </thead>\n",
       "  <tbody>\n",
       "    <tr>\n",
       "      <th>0</th>\n",
       "      <td>1276.500000</td>\n",
       "      <td>1277.524428</td>\n",
       "      <td>1277.524428</td>\n",
       "    </tr>\n",
       "    <tr>\n",
       "      <th>1</th>\n",
       "      <td>1277.400024</td>\n",
       "      <td>1278.424453</td>\n",
       "      <td>1278.424453</td>\n",
       "    </tr>\n",
       "    <tr>\n",
       "      <th>2</th>\n",
       "      <td>1295.800049</td>\n",
       "      <td>1296.824477</td>\n",
       "      <td>1296.824477</td>\n",
       "    </tr>\n",
       "    <tr>\n",
       "      <th>3</th>\n",
       "      <td>1274.599976</td>\n",
       "      <td>1275.624404</td>\n",
       "      <td>1275.624404</td>\n",
       "    </tr>\n",
       "    <tr>\n",
       "      <th>4</th>\n",
       "      <td>1281.099976</td>\n",
       "      <td>1282.124404</td>\n",
       "      <td>1282.124404</td>\n",
       "    </tr>\n",
       "  </tbody>\n",
       "</table>\n",
       "</div>"
      ],
      "text/plain": [
       "         Close  Scaled_pred         Pred\n",
       "0  1276.500000  1277.524428  1277.524428\n",
       "1  1277.400024  1278.424453  1278.424453\n",
       "2  1295.800049  1296.824477  1296.824477\n",
       "3  1274.599976  1275.624404  1275.624404\n",
       "4  1281.099976  1282.124404  1282.124404"
      ]
     },
     "execution_count": 22,
     "metadata": {},
     "output_type": "execute_result"
    }
   ],
   "source": [
    "df = pd.DataFrame(updown_pred)\n",
    "df[\"Close\"] = close_test\n",
    "# df[\"updown_pred\"] = df.iloc[:,0]\n",
    "# df[\"updown_actual\"] = ud(close_test)\n",
    "df[\"Scaled_pred\"] = pred\n",
    "df[\"Pred\"] = predict\n",
    "df = df.iloc[:,1:] \n",
    "# print('Model Accuracy: ', (df[\"updown_pred\"] == df[\"updown_actual\"]).sum()/df.shape[0])\n",
    "# print('Baseline Accuracy: 0.5')\n",
    "df.head()"
   ]
  },
  {
   "cell_type": "code",
   "execution_count": 23,
   "metadata": {},
   "outputs": [
    {
     "data": {
      "image/png": "[encoded data removed]",
      "text/plain": [
       "<Figure size 432x288 with 1 Axes>"
      ]
     },
     "metadata": {
      "needs_background": "light"
     },
     "output_type": "display_data"
    }
   ],
   "source": [
    "plt.plot(df['Pred'], label='pred')\n",
    "plt.plot(df[\"Close\"], label='Close')\n",
    "plt.legend()\n",
    "plt.show()"
   ]
  },
  {
   "cell_type": "code",
   "execution_count": 24,
   "metadata": {},
   "outputs": [],
   "source": [
    "commission = 0.005\n",
    "def long_equity(prediction, close):\n",
    "    long = [close[0]]\n",
    "    for i in range(1,len(prediction)-1):\n",
    "        if prediction[i] > close[i-1]:\n",
    "            long.append(close[i] - close[i-1] - close[i-1]*commission)\n",
    "        else:\n",
    "            long.append(0)\n",
    "    return long\n",
    "\n",
    "def short_equity(prediction, close):\n",
    "    short = [close[0]]\n",
    "    for i in range(1,len(prediction)-1):\n",
    "        if prediction[i] < close[i-1]:\n",
    "            short.append(close[i-1] - close[i] - close[i-1]*commission)\n",
    "        else:\n",
    "            short.append(0)\n",
    "    return short  \n",
    "\n",
    "def total_equity(prediction, close):\n",
    "    total = [close[0]]\n",
    "    for i in range(1,len(prediction)-1):\n",
    "        if prediction[i] > close[i-1]:\n",
    "            total.append(close[i] - close[i-1] - close[i-1]*commission)\n",
    "        else:\n",
    "            total.append(close[i-1] - close[i] - close[i-1]*commission)\n",
    "    return total\n",
    "\n",
    "# def percentage_returns(equity):\n",
    "#     equity = 0\n",
    "#     for i in range(1,len(equity))"
   ]
  },
  {
   "cell_type": "code",
   "execution_count": 28,
   "metadata": {},
   "outputs": [
    {
     "data": {
      "text/plain": [
       "<matplotlib.legend.Legend at 0x242e55d4fd0>"
      ]
     },
     "execution_count": 28,
     "metadata": {},
     "output_type": "execute_result"
    },
    {
     "data": {
      "image/png": "[encoded data removed]",
      "text/plain": [
       "<Figure size 432x288 with 1 Axes>"
      ]
     },
     "metadata": {
      "needs_background": "light"
     },
     "output_type": "display_data"
    }
   ],
   "source": [
    "df_equity = pd.DataFrame()\n",
    "df_equity[\"long_equity\"] = long_equity(df[\"Pred\"], df[\"Close\"])\n",
    "df_equity[\"short_equity\"] = short_equity(df[\"Pred\"], df[\"Close\"])\n",
    "df_equity[\"total_equity\"] = total_equity(df[\"Pred\"], df[\"Close\"])\n",
    "df_equity[\"short_equity\"].cumsum().plot()\n",
    "df_equity[\"long_equity\"].cumsum().plot()\n",
    "df_equity[\"total_equity\"].cumsum().plot()\n",
    "df[\"Close\"].plot()\n",
    "# df[\"Pred\"].shift(-1).plot()\n",
    "plt.legend()"
   ]
  }
 ],
 "metadata": {
  "kernelspec": {
   "display_name": "Python 3",
   "language": "python",
   "name": "python3"
  },
  "language_info": {
   "codemirror_mode": {
    "name": "ipython",
    "version": 3
   },
   "file_extension": ".py",
   "mimetype": "text/x-python",
   "name": "python",
   "nbconvert_exporter": "python",
   "pygments_lexer": "ipython3",
   "version": "3.8.5"
  }
 },
 "nbformat": 4,
 "nbformat_minor": 4
}

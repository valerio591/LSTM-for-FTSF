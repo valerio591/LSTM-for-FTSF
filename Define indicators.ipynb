{
 "cells": [
  {
   "cell_type": "code",
   "execution_count": 9,
   "metadata": {},
   "outputs": [],
   "source": [
    "import pandas as pd \n",
    "import numpy as np"
   ]
  },
  {
   "cell_type": "markdown",
   "metadata": {},
   "source": [
    "## Indicators"
   ]
  },
  {
   "cell_type": "code",
   "execution_count": 4,
   "metadata": {},
   "outputs": [],
   "source": [
    "def rsi(price, period):\n",
    "    delta= price.diff()\n",
    "    up = delta.clip(lower=0)\n",
    "    down = -1*delta.clip(upper=0)\n",
    "    ema_up = up.ewm(com=period, adjust=False).mean()\n",
    "    ema_down = down.ewm(com=period, adjust=False).mean()\n",
    "    rs = 100 - (100/(1 + (ema_up/ema_down)))\n",
    "    return rs\n",
    "\n",
    "# Volume Weighted Average Price\n",
    "\n",
    "def vwap(price, volume, period):\n",
    "    Vwap = []\n",
    "    for i in range(len(price)):\n",
    "        if i < period:\n",
    "            Vwap.append(np.nan)\n",
    "        else:\n",
    "            low_range = i - period\n",
    "            cum_pvol = price[low_range:(i+1)]*volume[low_range:(i+1)]\n",
    "            ind = cum_pvol/volume[low_range:(i+1)]\n",
    "            vwap.append(ind)\n",
    "    return Vwap\n",
    "    \n",
    "# FUnction to classify up or down movement of price data, up = True, down = False\n",
    "\n",
    "def up_down(price):\n",
    "    up_down = [True]\n",
    "    for i in range(1,len(price)):\n",
    "        if price[i] > price[i-1]:\n",
    "            up_down.append(True)\n",
    "        else:\n",
    "            up_down.append(False)\n",
    "    return up_down\n",
    "\n",
    "# Moving average\n",
    "\n",
    "def MA(price, period):\n",
    "    MA = []\n",
    "    for i in range(len(price)):\n",
    "        if i < period:\n",
    "            MA.append(np.nan)\n",
    "        else:\n",
    "            mean = np.mean(price[(i-period):(i+1)])\n",
    "            MA.append(mean)\n",
    "    return MA\n",
    "\n",
    "# Stocastic Oscillator\n",
    "\n",
    "def Stochastic_Oscillator(price, period):\n",
    "    K = []\n",
    "    for i in range(len(price)):\n",
    "        if i < period:\n",
    "            K.append(np.nan)\n",
    "        else:\n",
    "            low_range = i - period\n",
    "            L = np.min(price[low_range:(i+1)])\n",
    "            H = np.max(price[low_range:(i+1)])\n",
    "            C = price[i]\n",
    "            ind = ((C-L)/(H-L))*100\n",
    "            K.append(ind)\n",
    "    return K"
   ]
  }
 ],
 "metadata": {
  "kernelspec": {
   "display_name": "Python 3",
   "language": "python",
   "name": "python3"
  },
  "language_info": {
   "codemirror_mode": {
    "name": "ipython",
    "version": 3
   },
   "file_extension": ".py",
   "mimetype": "text/x-python",
   "name": "python",
   "nbconvert_exporter": "python",
   "pygments_lexer": "ipython3",
   "version": "3.8.5"
  }
 },
 "nbformat": 4,
 "nbformat_minor": 5
}
